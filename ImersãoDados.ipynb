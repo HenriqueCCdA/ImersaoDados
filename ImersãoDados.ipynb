{
  "nbformat": 4,
  "nbformat_minor": 0,
  "metadata": {
    "colab": {
      "name": "Cópia de ImersãoDados.ipynb",
      "provenance": [],
      "collapsed_sections": [
        "oXh3bCBWsNf8",
        "7lrC4CSKZB7z",
        "yOajgMlvtZzY",
        "RIM8KucmakFw"
      ],
      "include_colab_link": true
    },
    "kernelspec": {
      "name": "python3",
      "display_name": "Python 3"
    },
    "language_info": {
      "name": "python"
    }
  },
  "cells": [
    {
      "cell_type": "markdown",
      "metadata": {
        "id": "view-in-github",
        "colab_type": "text"
      },
      "source": [
        "<a href=\"https://colab.research.google.com/github/HenriqueCCdA/ImersaoDados/blob/main/%5CAula%5CImers%C3%A3oDados.ipynb\" target=\"_parent\"><img src=\"https://colab.research.google.com/assets/colab-badge.svg\" alt=\"Open In Colab\"/></a>"
      ]
    },
    {
      "cell_type": "markdown",
      "metadata": {
        "id": "6byeaqfUYG-w"
      },
      "source": [
        "# Aula 1"
      ]
    },
    {
      "cell_type": "code",
      "metadata": {
        "id": "1p7UwM-g1nKN"
      },
      "source": [
        "import pandas as pd"
      ],
      "execution_count": null,
      "outputs": []
    },
    {
      "cell_type": "code",
      "metadata": {
        "id": "uEXKYxRx2Zoq"
      },
      "source": [
        "url_dados = \"https://github.com/alura-cursos/imersaodados3/blob/main/dados/dados_experimentos.zip?raw=true\"\n",
        "\n",
        "dados = pd.read_csv(url_dados, compression='zip')"
      ],
      "execution_count": null,
      "outputs": []
    },
    {
      "cell_type": "code",
      "metadata": {
        "id": "R_9OAbpL29Eq"
      },
      "source": [
        "dados.head()"
      ],
      "execution_count": null,
      "outputs": []
    },
    {
      "cell_type": "code",
      "metadata": {
        "id": "4SnbVt1m3BGL"
      },
      "source": [
        "dados.shape"
      ],
      "execution_count": null,
      "outputs": []
    },
    {
      "cell_type": "code",
      "metadata": {
        "id": "6Kn4eoe85Kn3"
      },
      "source": [
        "dados['tratamento'].unique()"
      ],
      "execution_count": null,
      "outputs": []
    },
    {
      "cell_type": "code",
      "metadata": {
        "id": "jkhiiSSm5hUd"
      },
      "source": [
        "dados['tempo'].unique()"
      ],
      "execution_count": null,
      "outputs": []
    },
    {
      "cell_type": "code",
      "metadata": {
        "id": "qJY6YPKD6ogd"
      },
      "source": [
        "dados['dose'].unique()"
      ],
      "execution_count": null,
      "outputs": []
    },
    {
      "cell_type": "code",
      "metadata": {
        "id": "Yn_HBzk_7KGT"
      },
      "source": [
        "dados['g-0'].unique()"
      ],
      "execution_count": null,
      "outputs": []
    },
    {
      "cell_type": "code",
      "metadata": {
        "id": "rdSl2kaaCZrl"
      },
      "source": [
        "dados['droga'].unique().shape"
      ],
      "execution_count": null,
      "outputs": []
    },
    {
      "cell_type": "code",
      "metadata": {
        "id": "w1VRf7HP-FS_"
      },
      "source": [
        "dados['tratamento'].value_counts()"
      ],
      "execution_count": null,
      "outputs": []
    },
    {
      "cell_type": "code",
      "metadata": {
        "id": "fVBBVP6LAbw5"
      },
      "source": [
        "dados['tratamento'].value_counts(normalize = True)"
      ],
      "execution_count": null,
      "outputs": []
    },
    {
      "cell_type": "code",
      "metadata": {
        "id": "dwnwZ42RCAA_"
      },
      "source": [
        "dados['tratamento'].value_counts()"
      ],
      "execution_count": null,
      "outputs": []
    },
    {
      "cell_type": "code",
      "metadata": {
        "id": "-PfZmTM2Cifb"
      },
      "source": [
        "dados['dose'].value_counts()"
      ],
      "execution_count": null,
      "outputs": []
    },
    {
      "cell_type": "code",
      "metadata": {
        "id": "mXkctd8oCmHN"
      },
      "source": [
        "dados['dose'].value_counts(normalize = True)"
      ],
      "execution_count": null,
      "outputs": []
    },
    {
      "cell_type": "code",
      "metadata": {
        "id": "l1R1_UwhC1YN"
      },
      "source": [
        "dados['tratamento'].value_counts().plot.pie()"
      ],
      "execution_count": null,
      "outputs": []
    },
    {
      "cell_type": "code",
      "metadata": {
        "id": "uWH06isCDFBM"
      },
      "source": [
        "dados['tempo'].value_counts().plot.pie()"
      ],
      "execution_count": null,
      "outputs": []
    },
    {
      "cell_type": "code",
      "metadata": {
        "id": "ThBZ5aeqDN8r"
      },
      "source": [
        "dados['tempo'].value_counts().plot.bar()"
      ],
      "execution_count": null,
      "outputs": []
    },
    {
      "cell_type": "code",
      "metadata": {
        "id": "JUtf2yctDk_j"
      },
      "source": [
        "dados_filtrados = dados[dados['g-0'] > 0]\n",
        "dados_filtrados.head()"
      ],
      "execution_count": null,
      "outputs": []
    },
    {
      "cell_type": "code",
      "metadata": {
        "id": "8o_SKAukEety"
      },
      "source": [
        "new_columns = []\n",
        "for word in dados.columns:\n",
        "  if \"-\" in word:\n",
        "    new_columns.append(word.replace(\"-\", \"\"))\n",
        "  else:\n",
        "    new_columns.append(word)\n",
        "\n",
        "dados.columns = new_columns\n",
        "\n",
        "dados.head()"
      ],
      "execution_count": null,
      "outputs": []
    },
    {
      "cell_type": "code",
      "metadata": {
        "id": "FPcVMYHLFhal"
      },
      "source": [
        "dados.query(\"g0 > 0\")"
      ],
      "execution_count": null,
      "outputs": []
    },
    {
      "cell_type": "markdown",
      "metadata": {
        "id": "oXh3bCBWsNf8"
      },
      "source": [
        "#Aula 2"
      ]
    },
    {
      "cell_type": "code",
      "metadata": {
        "id": "eApl6zaxsP5l"
      },
      "source": [
        "mapa = {'droga' : 'compostos'}\n",
        "dados.rename(columns=mapa, inplace=True)\n",
        "dados.head()"
      ],
      "execution_count": null,
      "outputs": []
    },
    {
      "cell_type": "code",
      "metadata": {
        "id": "JtL9ofIRuCih"
      },
      "source": [
        "cod_compostos = dados['compostos'].value_counts().index[:5]"
      ],
      "execution_count": null,
      "outputs": []
    },
    {
      "cell_type": "code",
      "metadata": {
        "id": "Ddb-8k05urON"
      },
      "source": [
        "cod_compostos"
      ],
      "execution_count": null,
      "outputs": []
    },
    {
      "cell_type": "code",
      "metadata": {
        "id": "AMm90e40u3tw"
      },
      "source": [
        "dados.query(\"compostos in @cod_compostos\")"
      ],
      "execution_count": null,
      "outputs": []
    },
    {
      "cell_type": "code",
      "metadata": {
        "id": "hlPj9WH1s7Nt"
      },
      "source": [
        "import seaborn as sns\n",
        "import matplotlib.pyplot as plt\n",
        "\n",
        "sns.set()\n",
        "plt.figure(figsize=(8, 6))\n",
        "\n",
        "ax = sns.countplot(x = 'compostos', data = dados.query(\"compostos in @cod_compostos\"))\n",
        "ax.set_title('Top 5 compostos')\n",
        "plt.show()"
      ],
      "execution_count": null,
      "outputs": []
    },
    {
      "cell_type": "code",
      "metadata": {
        "id": "C6rvInCmtyLx"
      },
      "source": [
        "dados['g0'].hist(bins = 100)"
      ],
      "execution_count": null,
      "outputs": []
    },
    {
      "cell_type": "code",
      "metadata": {
        "id": "w9Wm3Hoj0Ts2"
      },
      "source": [
        "dados['g19'].hist(bins = 100)"
      ],
      "execution_count": null,
      "outputs": []
    },
    {
      "cell_type": "code",
      "metadata": {
        "id": "4kgKnG272h82"
      },
      "source": [
        "dados.describe()"
      ],
      "execution_count": null,
      "outputs": []
    },
    {
      "cell_type": "code",
      "metadata": {
        "id": "lGzGcx1s3bpH"
      },
      "source": [
        "dados.loc[:,'g0':'g771'].describe()"
      ],
      "execution_count": null,
      "outputs": []
    },
    {
      "cell_type": "code",
      "metadata": {
        "id": "mFhwjHuT39uO"
      },
      "source": [
        "dados.loc[:,'g0':'g771'].describe().T['mean'].hist(bins=50)"
      ],
      "execution_count": null,
      "outputs": []
    },
    {
      "cell_type": "code",
      "metadata": {
        "id": "q6gWNnMR4cM2"
      },
      "source": [
        "dados.loc[:,'g0':'g771'].describe().T['min'].hist(bins=50)"
      ],
      "execution_count": null,
      "outputs": []
    },
    {
      "cell_type": "code",
      "metadata": {
        "id": "zgl4m5AO4xAM"
      },
      "source": [
        "dados.loc[:,'g0':'g771'].describe().T['max'].hist(bins=50)"
      ],
      "execution_count": null,
      "outputs": []
    },
    {
      "cell_type": "code",
      "metadata": {
        "id": "PqCjS8rc4zjk"
      },
      "source": [
        "dados.loc[:,'c0':'c99'].describe().T['mean'].hist(bins=50)"
      ],
      "execution_count": null,
      "outputs": []
    },
    {
      "cell_type": "code",
      "metadata": {
        "id": "ho39nC_f6Mcz"
      },
      "source": [
        "sns.boxplot(x='g0', data=dados)"
      ],
      "execution_count": null,
      "outputs": []
    },
    {
      "cell_type": "code",
      "metadata": {
        "id": "Z7Cm9Bio9Ohl"
      },
      "source": [
        "plt.figure(figsize=(8, 6))\n",
        "sns.boxplot(y='g0', x ='tratamento' , data=dados)"
      ],
      "execution_count": null,
      "outputs": []
    },
    {
      "cell_type": "markdown",
      "metadata": {
        "id": "7lrC4CSKZB7z"
      },
      "source": [
        "# Aula 3"
      ]
    },
    {
      "cell_type": "code",
      "metadata": {
        "id": "M4b9LwPu-k5M"
      },
      "source": [
        "pd.crosstab(dados['dose'], dados['tempo'])"
      ],
      "execution_count": null,
      "outputs": []
    },
    {
      "cell_type": "code",
      "metadata": {
        "id": "y0C3De1DvGdV"
      },
      "source": [
        "pd.crosstab([dados['dose'], dados['tempo']], dados['tratamento'])"
      ],
      "execution_count": null,
      "outputs": []
    },
    {
      "cell_type": "code",
      "metadata": {
        "id": "SuQzE8mAvtnj"
      },
      "source": [
        "pd.crosstab([dados['dose'], dados['tempo']], dados['tratamento'], normalize='index')"
      ],
      "execution_count": null,
      "outputs": []
    },
    {
      "cell_type": "code",
      "metadata": {
        "id": "RrT32_QVwHzz"
      },
      "source": [
        "pd.crosstab([dados['dose'], dados['tempo']], dados['tratamento'],values=dados['g0'], aggfunc = 'mean')"
      ],
      "execution_count": null,
      "outputs": []
    },
    {
      "cell_type": "code",
      "metadata": {
        "id": "PplP07yTxd65"
      },
      "source": [
        "sns.scatterplot(x='g0', y = 'g3', data=dados)"
      ],
      "execution_count": null,
      "outputs": []
    },
    {
      "cell_type": "code",
      "metadata": {
        "id": "zC5Z5IdH0yC_"
      },
      "source": [
        "sns.scatterplot(x='g0', y = 'g8', data=dados)"
      ],
      "execution_count": null,
      "outputs": []
    },
    {
      "cell_type": "code",
      "metadata": {
        "id": "FycaM8mo221N"
      },
      "source": [
        "sns.lmplot(data=dados, x = 'g0', y='g8', line_kws={'color':'red'})"
      ],
      "execution_count": null,
      "outputs": []
    },
    {
      "cell_type": "code",
      "metadata": {
        "id": "rY5n3mYt3KbI"
      },
      "source": [
        "sns.lmplot(data=dados, x = 'g0', y='g8', line_kws={'color':'red'}, col='tratamento', row='tempo')"
      ],
      "execution_count": null,
      "outputs": []
    },
    {
      "cell_type": "code",
      "metadata": {
        "id": "DHsoFoBs322s"
      },
      "source": [
        "dados.loc[:,'g0':'g771'].corr()"
      ],
      "execution_count": null,
      "outputs": []
    },
    {
      "cell_type": "code",
      "metadata": {
        "id": "jkof2-54-Oks"
      },
      "source": [
        "# Compute the correlation matrix\n",
        "corr = dados.loc[:,'c0':'c50'].corr()"
      ],
      "execution_count": null,
      "outputs": []
    },
    {
      "cell_type": "code",
      "metadata": {
        "id": "QyQG8LZ75U5S"
      },
      "source": [
        "import numpy as np\n",
        "\n",
        "# Generate a mask for the upper triangle\n",
        "mask = np.triu(np.ones_like(corr, dtype=bool))\n",
        "\n",
        "# Set up the matplotlib figure\n",
        "f, ax = plt.subplots(figsize=(11, 9))\n",
        "\n",
        "# Generate a custom diverging colormap\n",
        "cmap = sns.diverging_palette(230, 20, as_cmap=True)\n",
        "\n",
        "# Draw the heatmap with the mask and correct aspect ratio\n",
        "sns.heatmap(corr, mask=mask, cmap=cmap, vmax=.8, center=0,\n",
        "            square=True, linewidths=.5, cbar_kws={\"shrink\": .5})"
      ],
      "execution_count": null,
      "outputs": []
    },
    {
      "cell_type": "markdown",
      "metadata": {
        "id": "yOajgMlvtZzY"
      },
      "source": [
        "#Aula 4\n"
      ]
    },
    {
      "cell_type": "code",
      "metadata": {
        "id": "rPagWqshtbaM"
      },
      "source": [
        "url_dados_resultados = \"https://github.com/alura-cursos/imersaodados3/blob/main/dados/dados_resultados.csv?raw=true\"\n",
        "\n",
        "dados_resultados = pd.read_csv(url_dados_resultados)\n",
        "dados_resultados.head()"
      ],
      "execution_count": null,
      "outputs": []
    },
    {
      "cell_type": "code",
      "metadata": {
        "id": "qvtKZhAwuFD1"
      },
      "source": [
        "dados_resultados['acat_inhibitor'].unique()"
      ],
      "execution_count": null,
      "outputs": []
    },
    {
      "cell_type": "code",
      "metadata": {
        "id": "LiLF0NC3wnUx"
      },
      "source": [
        "dados_resultados['acetylcholine_receptor_agonist'].unique()"
      ],
      "execution_count": null,
      "outputs": []
    },
    {
      "cell_type": "code",
      "metadata": {
        "id": "UyDoGMLawrz9"
      },
      "source": [
        "dados_resultados.shape"
      ],
      "execution_count": null,
      "outputs": []
    },
    {
      "cell_type": "code",
      "metadata": {
        "id": "wqSUOc8nwwq9"
      },
      "source": [
        "contagem_moa = dados_resultados.select_dtypes('int64').sum().sort_values(ascending = False)\n",
        "contagem_moa"
      ],
      "execution_count": null,
      "outputs": []
    },
    {
      "cell_type": "code",
      "metadata": {
        "id": "dFQUbH84xHpY"
      },
      "source": [
        "contagem_moa = dados_resultados.select_dtypes('int64').sum(axis=1)\n",
        "contagem_moa"
      ],
      "execution_count": null,
      "outputs": []
    },
    {
      "cell_type": "code",
      "metadata": {
        "id": "krynvfNIzMeN"
      },
      "source": [
        "dados_resultados['n_moa'] =  dados_resultados.select_dtypes('int64').sum(axis=1)\n",
        "dados_resultados['ativo_moa'] =  (dados_resultados['n_moa'] != 0)\n",
        "dados_resultados.head()"
      ],
      "execution_count": null,
      "outputs": []
    },
    {
      "cell_type": "code",
      "metadata": {
        "id": "lZxxkkxK2s1F"
      },
      "source": [
        "dados_combinados = pd.merge(dados, dados_resultados[['id','n_moa', 'ativo_moa']], on = 'id')\n",
        "dados_combinados.head()"
      ],
      "execution_count": null,
      "outputs": []
    },
    {
      "cell_type": "code",
      "metadata": {
        "id": "iQfCdXW831VJ"
      },
      "source": [
        "dados_combinados.query('tratamento == \"com_controle\"')['ativo_moa'].value_counts()"
      ],
      "execution_count": null,
      "outputs": []
    },
    {
      "cell_type": "code",
      "metadata": {
        "id": "-sKSns0e4L7_"
      },
      "source": [
        "dados_combinados.query('tratamento == \"com_droga\"')['ativo_moa'].value_counts()"
      ],
      "execution_count": null,
      "outputs": []
    },
    {
      "cell_type": "code",
      "metadata": {
        "id": "cygbL7EM4Y-8"
      },
      "source": [
        "composto_principal = dados_combinados['compostos'].value_counts().index[:5]\n",
        "plt.figure(figsize=(12,8))\n",
        "sns.boxplot(data = dados_combinados.query('compostos in @composto_principal'), y='g0', x ='compostos', hue='ativo_moa')"
      ],
      "execution_count": null,
      "outputs": []
    },
    {
      "cell_type": "code",
      "metadata": {
        "id": "mZHUohKO58QD"
      },
      "source": [
        ""
      ],
      "execution_count": null,
      "outputs": []
    },
    {
      "cell_type": "markdown",
      "metadata": {
        "id": "RIM8KucmakFw"
      },
      "source": [
        "# Aula 5"
      ]
    },
    {
      "cell_type": "code",
      "metadata": {
        "id": "2NjpCgBlamPc"
      },
      "source": [
        "dados_combinados.head()"
      ],
      "execution_count": null,
      "outputs": []
    },
    {
      "cell_type": "code",
      "metadata": {
        "id": "epM6rFnVcX7y"
      },
      "source": [
        "dados_resultados.head()"
      ],
      "execution_count": null,
      "outputs": []
    },
    {
      "cell_type": "code",
      "metadata": {
        "id": "1v-xDX_udA7H"
      },
      "source": [
        "from sklearn.linear_model import LogisticRegression\n",
        "from sklearn.model_selection import train_test_split\n",
        "\n",
        "x = dados_combinados.select_dtypes('float64')\n",
        "y = dados_combinados['ativo_moa']\n",
        "x_treino,x_teste,y_treino, y_teste = train_test_split(x, y, stratify = y, test_size = 0.2, random_state=376)\n",
        "\n",
        "modelo_rlogistica = LogisticRegression(max_iter=1000)\n",
        "modelo_rlogistica.fit(x_treino, y_treino)\n",
        "modelo_rlogistica.score(x_teste, y_teste) "
      ],
      "execution_count": null,
      "outputs": []
    },
    {
      "cell_type": "code",
      "metadata": {
        "id": "DqrTPYOegQPX"
      },
      "source": [
        "from sklearn.dummy import DummyClassifier\n",
        "from sklearn.metrics import accuracy_score\n",
        "\n",
        "modelo_rlogistica = DummyClassifier('most_frequent')\n",
        "modelo_rlogistica.fit(x_treino, y_treino)\n",
        "previsao_dummy = modelo_rlogistica.predict(x_teste) \n",
        "accuracy_score(y_teste, previsao_dummy)\n"
      ],
      "execution_count": null,
      "outputs": []
    },
    {
      "cell_type": "code",
      "metadata": {
        "id": "ZoM6X97KlS5s"
      },
      "source": [
        "from sklearn.tree import DecisionTreeClassifier\n",
        "from sklearn.model_selection import train_test_split\n",
        "\n",
        "x = dados_combinados.select_dtypes('float64')\n",
        "y = dados_combinados['ativo_moa']\n",
        "x_treino,x_teste,y_treino, y_teste = train_test_split(x, y, stratify = y, test_size = 0.2, random_state=376)\n",
        "\n",
        "modelo_arvore = DecisionTreeClassifier(max_depth = 3)\n",
        "modelo_arvore.fit(x_treino, y_treino)\n",
        "modelo_arvore.score(x_teste, y_teste) "
      ],
      "execution_count": null,
      "outputs": []
    },
    {
      "cell_type": "code",
      "metadata": {
        "id": "TSSjRAbbofDg"
      },
      "source": [
        "from sklearn.tree import DecisionTreeClassifier\n",
        "from sklearn.model_selection import train_test_split\n",
        "\n",
        "x = dados_combinados.select_dtypes('float64')\n",
        "y = dados_combinados['ativo_moa']\n",
        "x_treino,x_teste,y_treino, y_teste = train_test_split(x, y, stratify = y, test_size = 0.2, random_state=376)\n",
        "\n",
        "teste=[]\n",
        "treino=[]\n",
        "for i in range(1, 15):\n",
        "  modelo_arvore = DecisionTreeClassifier(max_depth = i)\n",
        "  modelo_arvore.fit(x_treino, y_treino)\n",
        "  teste.append(modelo_arvore.score(x_teste, y_teste)) \n",
        "  treino.append(modelo_arvore.score(x_treino, y_treino)) "
      ],
      "execution_count": null,
      "outputs": []
    },
    {
      "cell_type": "code",
      "metadata": {
        "id": "y1SuGSdxpcsm"
      },
      "source": [
        "sns.lineplot(x = range(1,15), y = teste, label = 'teste')\n",
        "sns.lineplot(x = range(1,15), y = treino, label = 'treino')"
      ],
      "execution_count": null,
      "outputs": []
    },
    {
      "cell_type": "code",
      "metadata": {
        "id": "odGm3Mu_twwt"
      },
      "source": [
        "pd.get_dummies(dados_combinados['tratamento'])"
      ],
      "execution_count": null,
      "outputs": []
    },
    {
      "cell_type": "code",
      "metadata": {
        "id": "EGqDQifquAvU"
      },
      "source": [
        "pd.get_dummies(dados_combinados, columns=['dose', 'tratamento', 'tempo'])"
      ],
      "execution_count": null,
      "outputs": []
    },
    {
      "cell_type": "code",
      "metadata": {
        "id": "Opkd295ksCFQ"
      },
      "source": [
        "from sklearn.ensemble import RandomForestClassifier \n",
        "from sklearn.model_selection import train_test_split\n",
        "\n",
        "x = dados_combinados.drop(['id', 'n_moa', 'ativo_moa', 'compostos'], axis = 1)\n",
        "x = pd.get_dummies(x, columns=['dose', 'tratamento', 'tempo'])\n",
        "y = dados_combinados['ativo_moa']\n",
        "x_treino,x_teste,y_treino, y_teste = train_test_split(x, y, stratify = y, test_size = 0.2, random_state=376)\n",
        "\n",
        "modelo_floresta = RandomForestClassifier()\n",
        "modelo_floresta.fit(x_treino, y_treino)\n",
        "modelo_floresta.score(x_teste, y_teste) "
      ],
      "execution_count": null,
      "outputs": []
    },
    {
      "cell_type": "code",
      "metadata": {
        "id": "EzuTDYH9tgXY"
      },
      "source": [
        ""
      ],
      "execution_count": null,
      "outputs": []
    }
  ]
}
